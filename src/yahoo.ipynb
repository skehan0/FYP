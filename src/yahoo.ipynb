{
 "cells": [
  {
   "metadata": {
    "ExecuteTime": {
     "end_time": "2024-11-20T23:30:57.590609Z",
     "start_time": "2024-11-20T23:30:57.295172Z"
    }
   },
   "cell_type": "code",
   "source": [
    "from datetime import datetime, timedelta\n",
    "import pandas as pd\n",
    "import yfinance as yf\n",
    "import mplfinance as mpf\n",
    "\n",
    "### Basic Usage\n",
    "# Download historical stock data for a single ticker\n",
    "ticker_symbol = 'AAPL'  # Use correct capitalization\n",
    "data = yf.download(ticker_symbol, start='2020-01-01', end='2023-01-01')\n",
    "print(\"AAPL Data:\")\n",
    "print(data.head())\n",
    "\n",
    "### Fetching Multiple Tickers\n",
    "# Download data for multiple tickers\n",
    "tickers = ['AAPL', 'MSFT', 'GOOGL']  # Ensure correct ticker capitalization\n",
    "multi_data = yf.download(tickers, start='2020-01-01', end='2023-01-01')\n",
    "print(\"\\nData for multiple tickers:\")\n",
    "print(multi_data.head())\n",
    "\n",
    "### Accessing Different Data Types\n",
    "# Access advanced data for a single ticker\n",
    "ticker = yf.Ticker('NVDA')\n",
    "\n",
    "# Get historical market data\n",
    "hist = ticker.history(period=\"1y\")\n",
    "print(\"\\nNVDA Historical Data:\")\n",
    "print(hist.head())\n",
    "\n",
    "# Get dividends\n",
    "dividends = ticker.dividends\n",
    "print(\"\\nNVDA Dividends:\")\n",
    "print(dividends)\n",
    "\n",
    "# Get stock splits\n",
    "splits = ticker.splits\n",
    "print(\"\\nNVDA Stock Splits:\")\n",
    "print(splits)\n",
    "\n",
    "## Advanced Data Extraction\n",
    "# Weekly historical data\n",
    "weekly_data = yf.download('AAPL', start='2020-01-01', end='2023-01-01', interval='1wk')\n",
    "print(\"\\nAAPL Weekly Data:\")\n",
    "print(weekly_data.head())\n",
    "\n",
    "# ### Limitations\n",
    "# # Intraday data with 5-minute intervals (only works for recent data due to Yahoo Finance API limitations)\n",
    "# intraday_5m = yf.download('AAPL', start='2024-11-11', end='2024-11-11', interval='5m')\n",
    "# print(\"\\nAAPL 5-Minute Interval Data:\")\n",
    "# print(intraday_5m.head())\n",
    "# \n",
    "# # 1-minute interval data (recent data only)\n",
    "# intraday_1m = yf.download('AAPL', start='2024-11-11', end='2024-11-11', interval='1m')\n",
    "# print(\"\\nAAPL 1-Minute Interval Data:\")\n",
    "# print(intraday_1m.head())\n"
   ],
   "id": "9003e7d5f674b722",
   "outputs": [
    {
     "name": "stderr",
     "output_type": "stream",
     "text": [
      "[*********************100%***********************]  1 of 1 completed\n",
      "[*********************100%***********************]  3 of 3 completed\n",
      "[*********************100%***********************]  1 of 1 completed"
     ]
    },
    {
     "name": "stdout",
     "output_type": "stream",
     "text": [
      "AAPL Data:\n",
      "Price       Adj Close      Close       High        Low       Open     Volume\n",
      "Ticker           AAPL       AAPL       AAPL       AAPL       AAPL       AAPL\n",
      "Date                                                                        \n",
      "2020-01-02  72.796013  75.087502  75.150002  73.797501  74.059998  135480400\n",
      "2020-01-03  72.088310  74.357498  75.144997  74.125000  74.287498  146322800\n",
      "2020-01-06  72.662712  74.949997  74.989998  73.187500  73.447502  118387200\n",
      "2020-01-07  72.320984  74.597504  75.224998  74.370003  74.959999  108872000\n",
      "2020-01-08  73.484337  75.797501  76.110001  74.290001  74.290001  132079200\n",
      "\n",
      "Data for multiple tickers:\n",
      "Price       Adj Close                             Close             \\\n",
      "Ticker           AAPL      GOOGL        MSFT       AAPL      GOOGL   \n",
      "Date                                                                 \n",
      "2020-01-02  72.796013  68.264961  153.938232  75.087502  68.433998   \n",
      "2020-01-03  72.088310  67.907852  152.021378  74.357498  68.075996   \n",
      "2020-01-06  72.662712  69.717865  152.414368  74.949997  69.890503   \n",
      "2020-01-07  72.320984  69.583206  151.024643  74.597504  69.755501   \n",
      "2020-01-08  73.484337  70.078476  153.430267  75.797501  70.251999   \n",
      "\n",
      "Price                        High                               Low  \\\n",
      "Ticker            MSFT       AAPL      GOOGL        MSFT       AAPL   \n",
      "Date                                                                  \n",
      "2020-01-02  160.619995  75.150002  68.433998  160.729996  73.797501   \n",
      "2020-01-03  158.619995  75.144997  68.687500  159.949997  74.125000   \n",
      "2020-01-06  159.029999  74.989998  69.916000  159.100006  73.187500   \n",
      "2020-01-07  157.580002  75.224998  70.175003  159.669998  74.370003   \n",
      "2020-01-08  160.089996  76.110001  70.592499  160.800003  74.290001   \n",
      "\n",
      "Price                                   Open                         \\\n",
      "Ticker          GOOGL        MSFT       AAPL      GOOGL        MSFT   \n",
      "Date                                                                  \n",
      "2020-01-02  67.324501  158.330002  74.059998  67.420502  158.779999   \n",
      "2020-01-03  67.365997  158.059998  74.287498  67.400002  158.320007   \n",
      "2020-01-06  67.550003  156.509995  73.447502  67.581497  157.080002   \n",
      "2020-01-07  69.578003  157.320007  74.959999  70.023003  159.320007   \n",
      "2020-01-08  69.631500  157.949997  74.290001  69.740997  158.929993   \n",
      "\n",
      "Price          Volume                      \n",
      "Ticker           AAPL     GOOGL      MSFT  \n",
      "Date                                       \n",
      "2020-01-02  135480400  27278000  22622100  \n",
      "2020-01-03  146322800  23408000  21116200  \n",
      "2020-01-06  118387200  46768000  20813700  \n",
      "2020-01-07  108872000  34330000  21634100  \n",
      "2020-01-08  132079200  35314000  27746500  \n",
      "\n",
      "NVDA Historical Data:\n",
      "                                Open       High        Low      Close  \\\n",
      "Date                                                                    \n",
      "2023-11-21 00:00:00-05:00  50.110838  50.501719  49.207112  49.928894   \n",
      "2023-11-22 00:00:00-05:00  49.836921  50.319773  47.675573  48.701263   \n",
      "2023-11-24 00:00:00-05:00  48.455341  48.906205  47.730558  47.761551   \n",
      "2023-11-27 00:00:00-05:00  47.785538  48.515317  47.637584  48.227406   \n",
      "2023-11-28 00:00:00-05:00  48.221409  48.308385  47.458640  47.806534   \n",
      "\n",
      "                              Volume  Dividends  Stock Splits  \n",
      "Date                                                           \n",
      "2023-11-21 00:00:00-05:00  565747000        0.0           0.0  \n",
      "2023-11-22 00:00:00-05:00  899420000        0.0           0.0  \n",
      "2023-11-24 00:00:00-05:00  294645000        0.0           0.0  \n",
      "2023-11-27 00:00:00-05:00  395662000        0.0           0.0  \n",
      "2023-11-28 00:00:00-05:00  401491000        0.0           0.0  \n",
      "\n",
      "NVDA Dividends:\n",
      "Date\n",
      "2023-12-05 00:00:00-05:00    0.004\n",
      "2024-03-05 00:00:00-05:00    0.004\n",
      "2024-06-11 00:00:00-04:00    0.010\n",
      "2024-09-12 00:00:00-04:00    0.010\n",
      "Name: Dividends, dtype: float64\n",
      "\n",
      "NVDA Stock Splits:\n",
      "Date\n",
      "2024-06-10 00:00:00-04:00    10.0\n",
      "Name: Stock Splits, dtype: float64\n",
      "\n",
      "AAPL Weekly Data:\n",
      "Price       Adj Close      Close       High        Low       Open     Volume\n",
      "Ticker           AAPL       AAPL       AAPL       AAPL       AAPL       AAPL\n",
      "Date                                                                        \n",
      "2020-01-01  72.320984  74.597504  75.224998  73.187500  74.059998  509062400\n",
      "2020-01-08  75.784431  78.169998  79.392502  74.290001  74.290001  726318800\n",
      "2020-01-15  76.727280  79.142502  79.754997  77.387497  77.962502  479412400\n",
      "2020-01-22  76.998726  79.422501  80.832497  76.220001  79.644997  677016000\n",
      "2020-01-29  77.279869  79.712502  81.962502  75.555000  81.112503  852965600\n"
     ]
    },
    {
     "name": "stderr",
     "output_type": "stream",
     "text": [
      "\n"
     ]
    }
   ],
   "execution_count": 29
  },
  {
   "metadata": {},
   "cell_type": "markdown",
   "source": "### Plotting the data",
   "id": "3b0704f3f45eb9af"
  },
  {
   "metadata": {
    "ExecuteTime": {
     "end_time": "2024-11-20T23:32:20.154875Z",
     "start_time": "2024-11-20T23:32:19.911893Z"
    }
   },
   "cell_type": "code",
   "source": [
    "# Download the data for NVDA\n",
    "nvda_data = yf.download('NVDA', start='2024-01-01', end='2024-11-01')\n",
    "\n",
    "# Check for missing or non-numeric values in the columns\n",
    "print(nvda_data.isna().sum())  # Print count of NaN values per column\n",
    "\n",
    "# Drop rows with any NaN values (optional, depending on your needs)\n",
    "nvda_data_cleaned = nvda_data.dropna()\n",
    "\n",
    "# Ensure that all relevant columns are of numeric type (this should usually be the case)\n",
    "nvda_data_cleaned = nvda_data_cleaned.apply(pd.to_numeric, errors='coerce')\n",
    "\n",
    "# Check again for any NaN values after cleaning\n",
    "print(nvda_data_cleaned.isna().sum())\n",
    "\n",
    "# Now plot the last 100 rows of data as a candlestick chart\n",
    "mpf.plot(nvda_data_cleaned.tail(100), type='candle', style='yahoo', volume=True)"
   ],
   "id": "bc48e9142d0ff19",
   "outputs": [
    {
     "name": "stderr",
     "output_type": "stream",
     "text": [
      "[*********************100%***********************]  1 of 1 completed"
     ]
    },
    {
     "name": "stdout",
     "output_type": "stream",
     "text": [
      "Price      Ticker\n",
      "Adj Close  NVDA      0\n",
      "Close      NVDA      0\n",
      "High       NVDA      0\n",
      "Low        NVDA      0\n",
      "Open       NVDA      0\n",
      "Volume     NVDA      0\n",
      "dtype: int64\n",
      "Price      Ticker\n",
      "Adj Close  NVDA      0\n",
      "Close      NVDA      0\n",
      "High       NVDA      0\n",
      "Low        NVDA      0\n",
      "Open       NVDA      0\n",
      "Volume     NVDA      0\n",
      "dtype: int64\n"
     ]
    },
    {
     "name": "stderr",
     "output_type": "stream",
     "text": [
      "\n"
     ]
    },
    {
     "ename": "ValueError",
     "evalue": "Data for column \"Open\" must be ALL float or int.",
     "output_type": "error",
     "traceback": [
      "\u001B[1;31m---------------------------------------------------------------------------\u001B[0m",
      "\u001B[1;31mValueError\u001B[0m                                Traceback (most recent call last)",
      "Cell \u001B[1;32mIn[32], line 17\u001B[0m\n\u001B[0;32m     14\u001B[0m \u001B[38;5;28mprint\u001B[39m(nvda_data_cleaned\u001B[38;5;241m.\u001B[39misna()\u001B[38;5;241m.\u001B[39msum())\n\u001B[0;32m     16\u001B[0m \u001B[38;5;66;03m# Now plot the last 100 rows of data as a candlestick chart\u001B[39;00m\n\u001B[1;32m---> 17\u001B[0m \u001B[43mmpf\u001B[49m\u001B[38;5;241;43m.\u001B[39;49m\u001B[43mplot\u001B[49m\u001B[43m(\u001B[49m\u001B[43mnvda_data_cleaned\u001B[49m\u001B[38;5;241;43m.\u001B[39;49m\u001B[43mtail\u001B[49m\u001B[43m(\u001B[49m\u001B[38;5;241;43m100\u001B[39;49m\u001B[43m)\u001B[49m\u001B[43m,\u001B[49m\u001B[43m \u001B[49m\u001B[38;5;28;43mtype\u001B[39;49m\u001B[38;5;241;43m=\u001B[39;49m\u001B[38;5;124;43m'\u001B[39;49m\u001B[38;5;124;43mcandle\u001B[39;49m\u001B[38;5;124;43m'\u001B[39;49m\u001B[43m,\u001B[49m\u001B[43m \u001B[49m\u001B[43mstyle\u001B[49m\u001B[38;5;241;43m=\u001B[39;49m\u001B[38;5;124;43m'\u001B[39;49m\u001B[38;5;124;43myahoo\u001B[39;49m\u001B[38;5;124;43m'\u001B[39;49m\u001B[43m,\u001B[49m\u001B[43m \u001B[49m\u001B[43mvolume\u001B[49m\u001B[38;5;241;43m=\u001B[39;49m\u001B[38;5;28;43;01mTrue\u001B[39;49;00m\u001B[43m)\u001B[49m\n",
      "File \u001B[1;32m~\\OneDrive\\Documents\\CT413\\FYP\\.venv\\Lib\\site-packages\\mplfinance\\plotting.py:417\u001B[0m, in \u001B[0;36mplot\u001B[1;34m(data, **kwargs)\u001B[0m\n\u001B[0;32m    414\u001B[0m \u001B[38;5;66;03m# translate alias types:\u001B[39;00m\n\u001B[0;32m    415\u001B[0m config[\u001B[38;5;124m'\u001B[39m\u001B[38;5;124mtype\u001B[39m\u001B[38;5;124m'\u001B[39m] \u001B[38;5;241m=\u001B[39m _get_valid_plot_types(config[\u001B[38;5;124m'\u001B[39m\u001B[38;5;124mtype\u001B[39m\u001B[38;5;124m'\u001B[39m])\n\u001B[1;32m--> 417\u001B[0m dates,opens,highs,lows,closes,volumes \u001B[38;5;241m=\u001B[39m \u001B[43m_check_and_prepare_data\u001B[49m\u001B[43m(\u001B[49m\u001B[43mdata\u001B[49m\u001B[43m,\u001B[49m\u001B[43m \u001B[49m\u001B[43mconfig\u001B[49m\u001B[43m)\u001B[49m\n\u001B[0;32m    419\u001B[0m config[\u001B[38;5;124m'\u001B[39m\u001B[38;5;124mxlim\u001B[39m\u001B[38;5;124m'\u001B[39m] \u001B[38;5;241m=\u001B[39m _check_and_convert_xlim_configuration(data, config)\n\u001B[0;32m    421\u001B[0m \u001B[38;5;28;01mif\u001B[39;00m config[\u001B[38;5;124m'\u001B[39m\u001B[38;5;124mtype\u001B[39m\u001B[38;5;124m'\u001B[39m] \u001B[38;5;129;01min\u001B[39;00m VALID_PMOVE_TYPES \u001B[38;5;129;01mand\u001B[39;00m config[\u001B[38;5;124m'\u001B[39m\u001B[38;5;124maddplot\u001B[39m\u001B[38;5;124m'\u001B[39m] \u001B[38;5;129;01mis\u001B[39;00m \u001B[38;5;129;01mnot\u001B[39;00m \u001B[38;5;28;01mNone\u001B[39;00m:\n",
      "File \u001B[1;32m~\\OneDrive\\Documents\\CT413\\FYP\\.venv\\Lib\\site-packages\\mplfinance\\_arg_validators.py:74\u001B[0m, in \u001B[0;36m_check_and_prepare_data\u001B[1;34m(data, config)\u001B[0m\n\u001B[0;32m     72\u001B[0m \u001B[38;5;28;01mfor\u001B[39;00m col \u001B[38;5;129;01min\u001B[39;00m cols:\n\u001B[0;32m     73\u001B[0m     \u001B[38;5;28;01mif\u001B[39;00m \u001B[38;5;129;01mnot\u001B[39;00m \u001B[38;5;28mall\u001B[39m( \u001B[38;5;28misinstance\u001B[39m(v,(\u001B[38;5;28mfloat\u001B[39m,\u001B[38;5;28mint\u001B[39m)) \u001B[38;5;28;01mfor\u001B[39;00m v \u001B[38;5;129;01min\u001B[39;00m data[col] ):\n\u001B[1;32m---> 74\u001B[0m         \u001B[38;5;28;01mraise\u001B[39;00m \u001B[38;5;167;01mValueError\u001B[39;00m(\u001B[38;5;124m'\u001B[39m\u001B[38;5;124mData for column \u001B[39m\u001B[38;5;124m\"\u001B[39m\u001B[38;5;124m'\u001B[39m\u001B[38;5;241m+\u001B[39m\u001B[38;5;28mstr\u001B[39m(col)\u001B[38;5;241m+\u001B[39m\u001B[38;5;124m'\u001B[39m\u001B[38;5;124m\"\u001B[39m\u001B[38;5;124m must be ALL float or int.\u001B[39m\u001B[38;5;124m'\u001B[39m)\n\u001B[0;32m     76\u001B[0m \u001B[38;5;28;01mif\u001B[39;00m config[\u001B[38;5;124m'\u001B[39m\u001B[38;5;124mtz_localize\u001B[39m\u001B[38;5;124m'\u001B[39m]:\n\u001B[0;32m     77\u001B[0m     dates   \u001B[38;5;241m=\u001B[39m mdates\u001B[38;5;241m.\u001B[39mdate2num(data\u001B[38;5;241m.\u001B[39mindex\u001B[38;5;241m.\u001B[39mtz_localize(\u001B[38;5;28;01mNone\u001B[39;00m)\u001B[38;5;241m.\u001B[39mto_pydatetime())\n",
      "\u001B[1;31mValueError\u001B[0m: Data for column \"Open\" must be ALL float or int."
     ]
    }
   ],
   "execution_count": 32
  },
  {
   "metadata": {},
   "cell_type": "code",
   "outputs": [],
   "execution_count": null,
   "source": "",
   "id": "9c679b9af01ec92f"
  }
 ],
 "metadata": {
  "kernelspec": {
   "display_name": "Python 3",
   "language": "python",
   "name": "python3"
  },
  "language_info": {
   "codemirror_mode": {
    "name": "ipython",
    "version": 2
   },
   "file_extension": ".py",
   "mimetype": "text/x-python",
   "name": "python",
   "nbconvert_exporter": "python",
   "pygments_lexer": "ipython2",
   "version": "2.7.6"
  }
 },
 "nbformat": 4,
 "nbformat_minor": 5
}
